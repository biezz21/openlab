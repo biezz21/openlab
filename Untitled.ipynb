{
 "cells": [
  {
   "cell_type": "code",
   "execution_count": 1,
   "metadata": {},
   "outputs": [],
   "source": [
    "import pandas as pd"
   ]
  },
  {
   "cell_type": "code",
   "execution_count": 2,
   "metadata": {},
   "outputs": [],
   "source": [
    "df = pd.read_csv('grass.csv')"
   ]
  },
  {
   "cell_type": "code",
   "execution_count": 4,
   "metadata": {},
   "outputs": [
    {
     "data": {
      "text/html": [
       "<div>\n",
       "<style scoped>\n",
       "    .dataframe tbody tr th:only-of-type {\n",
       "        vertical-align: middle;\n",
       "    }\n",
       "\n",
       "    .dataframe tbody tr th {\n",
       "        vertical-align: top;\n",
       "    }\n",
       "\n",
       "    .dataframe thead th {\n",
       "        text-align: right;\n",
       "    }\n",
       "</style>\n",
       "<table border=\"1\" class=\"dataframe\">\n",
       "  <thead>\n",
       "    <tr style=\"text-align: right;\">\n",
       "      <th></th>\n",
       "      <th>id</th>\n",
       "      <th>Growth_type</th>\n",
       "      <th>Cultivar</th>\n",
       "      <th>Common_N</th>\n",
       "      <th>Scientific_N</th>\n",
       "      <th>Wiki</th>\n",
       "      <th>Genbank</th>\n",
       "      <th>image</th>\n",
       "      <th>link</th>\n",
       "    </tr>\n",
       "  </thead>\n",
       "  <tbody>\n",
       "    <tr>\n",
       "      <th>0</th>\n",
       "      <td>0</td>\n",
       "      <td>Cool-season grasses</td>\n",
       "      <td>Bluegrass</td>\n",
       "      <td>Kentucky bluegrass</td>\n",
       "      <td>Poa pratensis</td>\n",
       "      <td>https://en.wikipedia.org/wiki/Poa_pratensis</td>\n",
       "      <td>None</td>\n",
       "      <td>Poa_pratensis</td>\n",
       "      <td>NaN</td>\n",
       "    </tr>\n",
       "    <tr>\n",
       "      <th>1</th>\n",
       "      <td>1</td>\n",
       "      <td>Cool-season grasses</td>\n",
       "      <td>Bluegrass</td>\n",
       "      <td>Rough bluegrass</td>\n",
       "      <td>Poa trivialis</td>\n",
       "      <td>https://en.wikipedia.org/wiki/Poa_trivialis</td>\n",
       "      <td>None</td>\n",
       "      <td>Poa_trivialis</td>\n",
       "      <td>NaN</td>\n",
       "    </tr>\n",
       "    <tr>\n",
       "      <th>2</th>\n",
       "      <td>2</td>\n",
       "      <td>Cool-season grasses</td>\n",
       "      <td>Bluegrass</td>\n",
       "      <td>Annual bluegrass</td>\n",
       "      <td>Poa annua</td>\n",
       "      <td>https://en.wikipedia.org/wiki/Poa_annua</td>\n",
       "      <td>None</td>\n",
       "      <td>Poa_annua</td>\n",
       "      <td>NaN</td>\n",
       "    </tr>\n",
       "    <tr>\n",
       "      <th>3</th>\n",
       "      <td>3</td>\n",
       "      <td>Cool-season grasses</td>\n",
       "      <td>Bluegrass</td>\n",
       "      <td>Canada bluegrass</td>\n",
       "      <td>Poa compressa</td>\n",
       "      <td>https://en.wikipedia.org/wiki/Poa_compressa</td>\n",
       "      <td>None</td>\n",
       "      <td>Poa_compressa</td>\n",
       "      <td>NaN</td>\n",
       "    </tr>\n",
       "    <tr>\n",
       "      <th>4</th>\n",
       "      <td>4</td>\n",
       "      <td>Cool-season grasses</td>\n",
       "      <td>Bentgrass</td>\n",
       "      <td>Creeping bentgrass</td>\n",
       "      <td>Agrostis stolonifera / Agrostis palustris</td>\n",
       "      <td>https://en.wikipedia.org/wiki/Agrostis_stoloni...</td>\n",
       "      <td>NC_008591.1</td>\n",
       "      <td>Agrostis_stolonifera</td>\n",
       "      <td>https://www.ncbi.nlm.nih.gov/nuccore/NC_008591...</td>\n",
       "    </tr>\n",
       "  </tbody>\n",
       "</table>\n",
       "</div>"
      ],
      "text/plain": [
       "   id          Growth_type   Cultivar            Common_N  \\\n",
       "0   0  Cool-season grasses  Bluegrass  Kentucky bluegrass   \n",
       "1   1  Cool-season grasses  Bluegrass     Rough bluegrass   \n",
       "2   2  Cool-season grasses  Bluegrass    Annual bluegrass   \n",
       "3   3  Cool-season grasses  Bluegrass    Canada bluegrass   \n",
       "4   4  Cool-season grasses  Bentgrass  Creeping bentgrass   \n",
       "\n",
       "                                Scientific_N  \\\n",
       "0                              Poa pratensis   \n",
       "1                              Poa trivialis   \n",
       "2                                  Poa annua   \n",
       "3                              Poa compressa   \n",
       "4  Agrostis stolonifera / Agrostis palustris   \n",
       "\n",
       "                                                Wiki      Genbank  \\\n",
       "0        https://en.wikipedia.org/wiki/Poa_pratensis         None   \n",
       "1        https://en.wikipedia.org/wiki/Poa_trivialis         None   \n",
       "2            https://en.wikipedia.org/wiki/Poa_annua         None   \n",
       "3        https://en.wikipedia.org/wiki/Poa_compressa         None   \n",
       "4  https://en.wikipedia.org/wiki/Agrostis_stoloni...  NC_008591.1   \n",
       "\n",
       "                  image                                               link  \n",
       "0         Poa_pratensis                                                NaN  \n",
       "1         Poa_trivialis                                                NaN  \n",
       "2             Poa_annua                                                NaN  \n",
       "3         Poa_compressa                                                NaN  \n",
       "4  Agrostis_stolonifera  https://www.ncbi.nlm.nih.gov/nuccore/NC_008591...  "
      ]
     },
     "execution_count": 4,
     "metadata": {},
     "output_type": "execute_result"
    }
   ],
   "source": [
    "df.head()"
   ]
  },
  {
   "cell_type": "code",
   "execution_count": 5,
   "metadata": {},
   "outputs": [],
   "source": [
    "import sqlite3"
   ]
  },
  {
   "cell_type": "code",
   "execution_count": 6,
   "metadata": {},
   "outputs": [],
   "source": [
    "conn = sqlite3.connect('./endpj/db.sqlite3')"
   ]
  },
  {
   "cell_type": "code",
   "execution_count": 8,
   "metadata": {},
   "outputs": [],
   "source": [
    "df.to_sql('grassdb', conn)"
   ]
  },
  {
   "cell_type": "code",
   "execution_count": 9,
   "metadata": {},
   "outputs": [],
   "source": [
    "conn.commit()"
   ]
  },
  {
   "cell_type": "code",
   "execution_count": 10,
   "metadata": {},
   "outputs": [],
   "source": [
    "conn.close()"
   ]
  },
  {
   "cell_type": "code",
   "execution_count": null,
   "metadata": {},
   "outputs": [],
   "source": []
  }
 ],
 "metadata": {
  "kernelspec": {
   "display_name": "Python 3",
   "language": "python",
   "name": "python3"
  },
  "language_info": {
   "codemirror_mode": {
    "name": "ipython",
    "version": 3
   },
   "file_extension": ".py",
   "mimetype": "text/x-python",
   "name": "python",
   "nbconvert_exporter": "python",
   "pygments_lexer": "ipython3",
   "version": "3.8.2"
  }
 },
 "nbformat": 4,
 "nbformat_minor": 4
}
